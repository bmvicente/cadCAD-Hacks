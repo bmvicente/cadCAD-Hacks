{
 "cells": [
  {
   "cell_type": "markdown",
   "id": "4d93ea86",
   "metadata": {},
   "source": [
    "## Table of Contents\n",
    "\n",
    "<ul>\n",
    "    <li><a href='#Dependencies'>Dependencies</a></li>\n",
    "    </li>\n",
    "    <li><a href='#Modelling'>Modelling</a>\n",
    "        <ol style='margin-top: 0em;'>\n",
    "            <li><a href='#1.-State-Variables'>State Variables</a></li>\n",
    "            <li><a href='#2.-System-Parameters'>System Parameters</a></li>\n",
    "            <li><a href='#3.-Policy-Functions'>Policy Functions</a></li>\n",
    "            <li><a href='#4.-State-Update-Functions'>State Update Functions</a></li>\n",
    "            <li><a href='#5.-Partial-State-Update-Blocks'>Partial State Update Blocks</a></li>\n",
    "        </ol>\n",
    "    </li>\n",
    "    <li><a href='#Simulation'>Simulation</a>\n",
    "        <ol style='margin-top: 0em;' start=\"6\">\n",
    "            <li><a href='#6.-Configuration'>Configuration</a></li>\n",
    "            <li><a href='#7.-Execution'>Execution</a></li>\n",
    "            <li><a href='#8.-Output-Preparation'>Output Preparation</a></li>\n",
    "            <li><a href='#9.-Analysis'>Analysis</a></li>\n",
    "        </ol>\n",
    "    </li>\n",
    "</ul>"
   ]
  },
  {
   "cell_type": "markdown",
   "id": "b6893678",
   "metadata": {},
   "source": [
    "# Dependencies"
   ]
  },
  {
   "cell_type": "code",
   "execution_count": 1,
   "id": "2733265b",
   "metadata": {},
   "outputs": [
    {
     "ename": "ModuleNotFoundError",
     "evalue": "No module named 'radcad'",
     "output_type": "error",
     "traceback": [
      "\u001b[0;31m---------------------------------------------------------------------------\u001b[0m",
      "\u001b[0;31mModuleNotFoundError\u001b[0m                       Traceback (most recent call last)",
      "\u001b[0;32m/var/folders/cp/w6nv98fn69xc1cdkkvhl7gz40000gn/T/ipykernel_11287/167854609.py\u001b[0m in \u001b[0;36m<module>\u001b[0;34m\u001b[0m\n\u001b[1;32m      2\u001b[0m \u001b[0;34m\u001b[0m\u001b[0m\n\u001b[1;32m      3\u001b[0m \u001b[0;31m# radCAD Model module\u001b[0m\u001b[0;34m\u001b[0m\u001b[0;34m\u001b[0m\u001b[0;34m\u001b[0m\u001b[0m\n\u001b[0;32m----> 4\u001b[0;31m \u001b[0;32mfrom\u001b[0m \u001b[0mradcad\u001b[0m \u001b[0;32mimport\u001b[0m \u001b[0mModel\u001b[0m\u001b[0;34m,\u001b[0m \u001b[0mSimulation\u001b[0m\u001b[0;34m,\u001b[0m \u001b[0mExperiment\u001b[0m\u001b[0;34m\u001b[0m\u001b[0;34m\u001b[0m\u001b[0m\n\u001b[0m\u001b[1;32m      5\u001b[0m \u001b[0;34m\u001b[0m\u001b[0m\n\u001b[1;32m      6\u001b[0m \u001b[0;31m# radCAD simulation engine modules\u001b[0m\u001b[0;34m\u001b[0m\u001b[0;34m\u001b[0m\u001b[0;34m\u001b[0m\u001b[0m\n",
      "\u001b[0;31mModuleNotFoundError\u001b[0m: No module named 'radcad'"
     ]
    }
   ],
   "source": [
    "# radCAD standard dependencies\n",
    "\n",
    "# radCAD Model module\n",
    "from radcad import Model, Simulation, Experiment\n",
    "\n",
    "# radCAD simulation engine modules\n",
    "from radcad.engine import Engine, Backend\n",
    "\n",
    "# radCAD core method used for post-processing\n",
    "from radcad.core import generate_parameter_sweep\n",
    "\n",
    "# Included with radCAD\n",
    "import pandas as pd"
   ]
  },
  {
   "cell_type": "code",
   "execution_count": null,
   "id": "0c525ee8",
   "metadata": {},
   "outputs": [],
   "source": [
    "# Additional dependencies\n",
    "\n",
    "# For analytics\n",
    "import numpy as np\n",
    "# For visualization\n",
    "import plotly.express as px"
   ]
  },
  {
   "cell_type": "markdown",
   "id": "9cf0bad4",
   "metadata": {},
   "source": [
    "# Modelling"
   ]
  },
  {
   "cell_type": "markdown",
   "id": "86c1edda",
   "metadata": {},
   "source": [
    "## 1. State Variables"
   ]
  },
  {
   "cell_type": "code",
   "execution_count": null,
   "id": "e14aeabb",
   "metadata": {},
   "outputs": [],
   "source": [
    "initial_state = {\n",
    "    'predator_population': 15, # Initial number of predators\n",
    "    'prey_population': 100, # Initial number of preys\n",
    "}\n",
    "initial_state"
   ]
  },
  {
   "cell_type": "markdown",
   "id": "a93456d5",
   "metadata": {},
   "source": [
    "## 2. System Parameters"
   ]
  },
  {
   "cell_type": "code",
   "execution_count": null,
   "id": "842a7e2a",
   "metadata": {},
   "outputs": [],
   "source": [
    "system_params = {\n",
    "    # Parameters describing the interaction between the two populations:\n",
    "    \n",
    "    # A parameter used to calculate the rate of predator birth\n",
    "    \"predator_birth_parameter\": [0.01], \n",
    "    # A parameter used to calculate the rate of predator death\n",
    "    \"predator_death_parameter\": [1.0],\n",
    "    # A parameter used to calculate the rate of prey birth\n",
    "    \"prey_birth_parameter\": [0.6, 1.0],\n",
    "    # A parameter used to calculate the rate of prey death\n",
    "    \"prey_death_parameter\": [0.03],\n",
    "\n",
    "    # Parameters used for random Numpy variable tuning\n",
    "    # These parameters scale the random variable used to create the random birth / death rate\n",
    "    \n",
    "    \"random_predator_birth\": [0.0002],\n",
    "    \"random_predator_death\": [0.005],\n",
    "    \"random_prey_birth\": [0.1],\n",
    "    \"random_prey_death\": [0.1],\n",
    "\n",
    "    # Parameter used as conversion factor between 1 unit of time and 1 timestep\n",
    "    # 10 timesteps == 1 unit of time, i.e. every 10 cadCAD model timesteps, 1 unit of actual model time passes\n",
    "    \n",
    "    \"dt\": [0.1],\n",
    "}"
   ]
  },
  {
   "cell_type": "markdown",
   "id": "55fc44ed",
   "metadata": {},
   "source": [
    "## 3. Policy Functions"
   ]
  },
  {
   "cell_type": "code",
   "execution_count": null,
   "id": "bca44e62",
   "metadata": {},
   "outputs": [],
   "source": [
    "def calculate_population(rate: float,\n",
    "                         population_1: float,\n",
    "                         population_2: float,\n",
    "                         dt: float) -> float:\n",
    "    \n",
    "    return rate * population_1 * population_2 * dt\n",
    "\n",
    "\n",
    "def p_predator_births(params, substep, state_history, previous_state):\n",
    "    '''Predator Births Policy Function\n",
    "    The predator birth rate (rate of predators born per unit of time) is a product of\n",
    "    the prey population and the predator birth parameter plus a random variable.\n",
    "    \n",
    "    i.e. the larger the prey population, the higher the predator birth rate\n",
    "    '''\n",
    "    # Parameters   \n",
    "    dt = params['dt']\n",
    "    predator_birth_parameter = params['predator_birth_parameter']\n",
    "    random_predator_birth = params['random_predator_birth']\n",
    "\n",
    "    # State Variables\n",
    "    predator_population = previous_state['predator_population']\n",
    "    prey_population = previous_state['prey_population']\n",
    "\n",
    "    # Calculate the predator birth rate\n",
    "    birth_rate = prey_population * (predator_birth_parameter + np.random.random() * random_predator_birth)\n",
    "    # Calculate change in predator population\n",
    "    births = calculate_population(\n",
    "        birth_rate,\n",
    "        predator_population,\n",
    "        1,\n",
    "        dt\n",
    "    )\n",
    "\n",
    "    return {'add_to_predator_population': births}\n",
    "\n",
    "\n",
    "def p_predator_deaths(params, substep, state_history, previous_state):\n",
    "    '''Predator Deaths Policy Function\n",
    "    The predator death rate (rate of predators that die per unit of time) is a function of\n",
    "    the predator death parameter plus a random variable.\n",
    "    \n",
    "    i.e. the larger the predator death parameter, the higher the predator death rate\n",
    "    '''\n",
    "    # Parameters\n",
    "    dt = params['dt']\n",
    "    predator_death_parameter = params['predator_death_parameter']\n",
    "    random_predator_death = params['random_predator_death']\n",
    "\n",
    "    # State Variables\n",
    "    predator_population = previous_state['predator_population']\n",
    "\n",
    "    # Calculate the predator death rate\n",
    "    death_rate = predator_death_parameter + np.random.random() * random_predator_death\n",
    "    # Calculate change in predator population\n",
    "    deaths = calculate_population(\n",
    "        death_rate,\n",
    "        predator_population,\n",
    "        1,\n",
    "        dt\n",
    "    )\n",
    "\n",
    "    return {'add_to_predator_population': -1.0 * deaths}\n",
    "\n",
    "\n",
    "def p_prey_births(params, substep, state_history, previous_state):\n",
    "    '''Prey Births Policy Function\n",
    "    The prey birth rate (rate of preys born per unit of time) is a function of\n",
    "    the prey birth parameter plus a random variable.\n",
    "    \n",
    "    i.e. the larger the prey birth parameter, the higher the prey birth rate\n",
    "    '''\n",
    "    # Parameters\n",
    "    dt = params['dt']\n",
    "    prey_birth_parameter = params['prey_birth_parameter']\n",
    "    random_prey_birth = params['random_prey_birth']\n",
    "\n",
    "    # State Variables\n",
    "    prey_population = previous_state['prey_population']\n",
    "\n",
    "    # Calculate the prey birth rate\n",
    "    birth_rate = prey_birth_parameter + np.random.random() * random_prey_birth\n",
    "    # Calculate change in prey population\n",
    "    births = calculate_population(\n",
    "        birth_rate,\n",
    "        1,\n",
    "        prey_population,\n",
    "        dt\n",
    "    )\n",
    "\n",
    "    return {'add_to_prey_population': births}\n",
    "\n",
    "\n",
    "def p_prey_deaths(params, substep, state_history, previous_state):\n",
    "    '''Prey Deaths Policy Function\n",
    "    The prey death rate (rate of preys that die per unit of time) is a product of\n",
    "    the predator population and the prey death parameter plus a random variable.\n",
    "    \n",
    "    i.e. the larger the predator population, the higher the prey death rate\n",
    "    '''\n",
    "    # Parameters\n",
    "    dt = params['dt']\n",
    "    prey_death_parameter = params['prey_death_parameter']\n",
    "    random_prey_death = params['random_prey_death']\n",
    "\n",
    "    # State Variables\n",
    "    prey_population = previous_state['prey_population']\n",
    "    predator_population = previous_state['predator_population']\n",
    "\n",
    "    # Calculate the prey death rate\n",
    "    death_rate = predator_population * (prey_death_parameter + np.random.random() * random_prey_death)\n",
    "    # Calculate change in prey population\n",
    "    deaths = calculate_population(\n",
    "        death_rate,\n",
    "        1,\n",
    "        prey_population,\n",
    "        dt\n",
    "    )\n",
    "\n",
    "    return {'add_to_prey_population': -1.0 * deaths}"
   ]
  },
  {
   "cell_type": "markdown",
   "id": "c5557b00",
   "metadata": {},
   "source": [
    "## 4. State Update Functions"
   ]
  },
  {
   "cell_type": "code",
   "execution_count": null,
   "id": "29744086",
   "metadata": {},
   "outputs": [],
   "source": [
    "def s_predator_population(params, substep, state_history, previous_state, policy_input):\n",
    "    '''Predator Population State Update Function\n",
    "    Take the Policy Input `add_to_predator_population`\n",
    "    (the net predator births and deaths)\n",
    "    and add to the `predator_population` State Variable.\n",
    "    '''\n",
    "    # Policy Inputs\n",
    "    add_to_predator_population = policy_input['add_to_predator_population']\n",
    "\n",
    "    # State Variables\n",
    "    predator_population = previous_state['predator_population']\n",
    "\n",
    "    # Calculate updated predator population\n",
    "    updated_predator_population = predator_population + add_to_predator_population\n",
    "\n",
    "    return 'predator_population', updated_predator_population\n",
    "\n",
    "\n",
    "def s_prey_population(params, substep, state_history, previous_state, policy_input):\n",
    "    '''Prey Population State Update Function\n",
    "    Take the Policy Input `add_to_prey_population`\n",
    "    (the net prey births and deaths)\n",
    "    and add to the `prey_population` State Variable.\n",
    "    '''\n",
    "    # Policy Inputs\n",
    "    add_to_prey_population = policy_input['add_to_prey_population']\n",
    "\n",
    "    # State Variables\n",
    "    prey_population = previous_state['prey_population']\n",
    "\n",
    "    # Calculate updated prey population\n",
    "    updated_prey_population = prey_population + add_to_prey_population\n",
    "\n",
    "    return 'prey_population', updated_prey_population"
   ]
  },
  {
   "cell_type": "markdown",
   "id": "68fc7f1c",
   "metadata": {},
   "source": [
    "## 5. Partial State Update Blocks"
   ]
  },
  {
   "cell_type": "code",
   "execution_count": null,
   "id": "c7a4ea13",
   "metadata": {},
   "outputs": [],
   "source": [
    "partial_state_update_blocks = [\n",
    "    {   \n",
    "        # Configure the model Policy Functions\n",
    "        'policies': {\n",
    "            # Calculate the predator birth rate and number of births\n",
    "            'predator_births': p_predator_births,\n",
    "            # Calculate the predator death rate and number of deaths\n",
    "            'predator_deaths': p_predator_deaths,\n",
    "            # Calculate the prey birth rate and number of births\n",
    "            'prey_births': p_prey_births,\n",
    "            # Calculate the prey death rate and number of deaths\n",
    "            'prey_deaths': p_prey_deaths,\n",
    "        },\n",
    "        # Configure the model State Update Functions\n",
    "        'variables': {\n",
    "            # Update the predator population\n",
    "            'prey_population': s_prey_population,\n",
    "            # Update the prey population\n",
    "            'predator_population': s_predator_population\n",
    "        }\n",
    "    }\n",
    "]"
   ]
  },
  {
   "cell_type": "markdown",
   "id": "9011becf",
   "metadata": {},
   "source": [
    "# Simulation"
   ]
  },
  {
   "cell_type": "markdown",
   "id": "475d66e3",
   "metadata": {},
   "source": [
    "## 6. Configuration"
   ]
  },
  {
   "cell_type": "code",
   "execution_count": null,
   "id": "47a6673f",
   "metadata": {},
   "outputs": [],
   "source": [
    "model = Model(\n",
    "    initial_state=initial_state,\n",
    "    state_update_blocks=partial_state_update_blocks,\n",
    "    params=system_params\n",
    ")"
   ]
  },
  {
   "cell_type": "code",
   "execution_count": null,
   "id": "e3c9551f",
   "metadata": {},
   "outputs": [],
   "source": [
    "simulation = Simulation(model=model, timesteps=400, runs=5)\n",
    "experiment = Experiment(simulation)"
   ]
  },
  {
   "cell_type": "markdown",
   "id": "5b844193",
   "metadata": {},
   "source": [
    "## 7. Execution"
   ]
  },
  {
   "cell_type": "code",
   "execution_count": null,
   "id": "edc69aef",
   "metadata": {},
   "outputs": [],
   "source": [
    "# Select the Pathos backend to avoid issues with multiprocessing and Jupyter Notebooks\n",
    "experiment.engine = Engine(backend=Backend.PATHOS)\n",
    "\n",
    "raw_result = experiment.run()"
   ]
  },
  {
   "cell_type": "markdown",
   "id": "572bfbaa",
   "metadata": {},
   "source": [
    "## 8. Output Preparation"
   ]
  },
  {
   "cell_type": "code",
   "execution_count": null,
   "id": "0e285ea6",
   "metadata": {},
   "outputs": [],
   "source": [
    "# Convert raw results to a Pandas DataFrame\n",
    "df = pd.DataFrame(raw_result)\n",
    "\n",
    "# Get a list of all System Parameters\n",
    "set_params = list(system_params.keys())\n",
    "\n",
    "# Insert cadCAD parameters for each configuration into DataFrame\n",
    "if set_params:\n",
    "    # Get a list of all parameters configurations\n",
    "    parameter_sweep = generate_parameter_sweep(system_params)\n",
    "    # Filter only the parameters set in set_params\n",
    "    parameter_sweep = [{param: subset[param] for param in set_params} for subset in parameter_sweep]\n",
    "    \n",
    "    # for each subset of configuration\n",
    "    for subset_index in df['subset'].unique():\n",
    "        # For each parameter key value pair\n",
    "        for (key, value) in parameter_sweep[subset_index].items():\n",
    "            # Select all DataFrame indices where subset == subset_index\n",
    "            dataframe_indices = df.eval(f'subset == {subset_index}')\n",
    "            # Assign each parameter key value pair to the DataFrame for the corresponding subset\n",
    "            df.loc[dataframe_indices, key] = value\n",
    "\n",
    "df.head(10)"
   ]
  },
  {
   "cell_type": "markdown",
   "id": "e5e51baf",
   "metadata": {},
   "source": [
    "## 9. Analysis"
   ]
  },
  {
   "cell_type": "code",
   "execution_count": null,
   "id": "b1fd5df9",
   "metadata": {},
   "outputs": [],
   "source": [
    "# Visualize how the predator and prey populations change over time\n",
    "\n",
    "# Notice that the populations are more chaotic when the prey birth rate is higher,\n",
    "# and the system is more stable when it is lower.\n",
    "\n",
    "px.line(\n",
    "    df,\n",
    "    x='timestep', # Variable on the horizontal axis\n",
    "    y=['predator_population', 'prey_population'], # Variables on the vertical axis\n",
    "    line_group='run', # One line for each MC run\n",
    "    facet_row='prey_birth_parameter', # Create a figure for each `prey_birth_parameter` parameter sweep\n",
    "    log_y=True, # Use log scale on the vertical axis\n",
    "    height=800,\n",
    ")"
   ]
  },
  {
   "cell_type": "code",
   "execution_count": null,
   "id": "0e49ae8d",
   "metadata": {},
   "outputs": [],
   "source": [
    "# Visualize how the predator and prey populations compare\n",
    "\n",
    "# Notice that they tend to have cycles around a fixed point\n",
    "# which means that their populations are never static,\n",
    "# but rather cyclic with ups and downs.\n",
    "\n",
    "px.line(\n",
    "    df,\n",
    "    x='predator_population', # Variable on the horizontal axis\n",
    "    y='prey_population', # Variable on the vertical axis\n",
    "    color='run', # Color by MC run\n",
    "    facet_row='prey_birth_parameter', # Create a figure for each `prey_birth_parameter` parameter sweep\n",
    "    log_x=True, # Use log scale on the horizontal axis\n",
    "    log_y=True, # Use log scale on the vertical axis\n",
    "    height=800,\n",
    ")"
   ]
  }
 ],
 "metadata": {
  "jupytext": {
   "formats": "ipynb,py"
  },
  "kernelspec": {
   "display_name": "Python 3 (ipykernel)",
   "language": "python",
   "name": "python3"
  },
  "language_info": {
   "codemirror_mode": {
    "name": "ipython",
    "version": 3
   },
   "file_extension": ".py",
   "mimetype": "text/x-python",
   "name": "python",
   "nbconvert_exporter": "python",
   "pygments_lexer": "ipython3",
   "version": "3.8.9"
  }
 },
 "nbformat": 4,
 "nbformat_minor": 5
}
